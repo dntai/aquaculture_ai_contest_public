{
 "cells": [
  {
   "cell_type": "code",
   "execution_count": 1,
   "outputs": [
    {
     "name": "stdout",
     "output_type": "stream",
     "text": [
      "--------------------------------------------------\n",
      "[Command index] - 211219_031904_34 - /media/pc/WORK/DNTAI/works/prlab/2021/projects/aquaculture_ai_context_2111/workspaces/aquaculture_ai_contest/aquaculture/cli_main.py\n",
      "--------------------------------------------------\n",
      "params: \n",
      "+ dataset_dir: '/media/pc/WORK/DNTAI/works/prlab/2021/projects/aquaculture_ai_context_2111/workspaces/aquaculture_ai_contest/data/a2i_data'\n",
      "+ preprocess_dir: '/media/pc/WORK/DNTAI/works/prlab/2021/projects/aquaculture_ai_context_2111/workspaces/aquaculture_ai_contest/data/preprocessed'\n",
      "+ has_save: False\n",
      "+ debug: 0\n",
      "+ add_evalf: ('logs_file', 'dataset_dir', 'preprocess_dir')\n",
      "+ evalf: ['logs_file', 'logs_file', 'dataset_dir', 'preprocess_dir']\n",
      "+ app_cfg: ''\n",
      "+ logs_file: '/media/pc/WORK/DNTAI/works/prlab/2021/projects/aquaculture_ai_context_2111/workspaces/aquaculture_ai_contest/data/exps/logs/index.txt'\n",
      "+ script_dir: '/media/pc/WORK/DNTAI/works/prlab/2021/projects/aquaculture_ai_context_2111/workspaces/aquaculture_ai_contest/aquaculture'\n",
      "+ script_date: datetime.datetime(2021, 12, 19, 3, 19, 4, 392126)\n",
      "+ script_sdate: '211219_031904_34'\n",
      "+ root_dir: '/media/pc/WORK/DNTAI/works/prlab/2021/projects/aquaculture_ai_context_2111/workspaces/aquaculture_ai_contest'\n",
      "+ data_dir: '/media/pc/WORK/DNTAI/works/prlab/2021/projects/aquaculture_ai_context_2111/workspaces/aquaculture_ai_contest/data'\n",
      "+ exps_dir: '/media/pc/WORK/DNTAI/works/prlab/2021/projects/aquaculture_ai_context_2111/workspaces/aquaculture_ai_contest/data/exps'\n",
      "--------------------------------------------------\n",
      "Export Data Information\n",
      "+ Dataset dir: /media/pc/WORK/DNTAI/works/prlab/2021/projects/aquaculture_ai_context_2111/workspaces/aquaculture_ai_contest/data/a2i_data\n",
      "+ Preprocessed dir: /media/pc/WORK/DNTAI/works/prlab/2021/projects/aquaculture_ai_context_2111/workspaces/aquaculture_ai_contest/data/preprocessed\n",
      "+ Has Save: False\n",
      "----------\n",
      "\n",
      "[Find and index all csv, image files]\n"
     ]
    },
    {
     "name": "stderr",
     "output_type": "stream",
     "text": [
      "Process cell:  28%|██▊       | 34330/122170 [00:00<00:00, 343279.05it/s]"
     ]
    },
    {
     "name": "stdout",
     "output_type": "stream",
     "text": [
      "\n",
      "[Process cell files]\n"
     ]
    },
    {
     "name": "stderr",
     "output_type": "stream",
     "text": [
      "Process cell: 100%|██████████| 122170/122170 [00:00<00:00, 322501.70it/s]\n"
     ]
    },
    {
     "name": "stdout",
     "output_type": "stream",
     "text": [
      "\n",
      "[Images under Microscopy]\n",
      "+ Cell codes: 122170 / 122170\n",
      "+ Cell dates: 21 - ['10/01' '10/04' '10/05' '10/06' '10/07' '10/08' '10/11' '10/12' '10/13'\n",
      " '10/14' '10/15' '10/18' '10/19' '10/20' '10/21' '10/22' '10/25' '10/26'\n",
      " '10/27' '10/28' '10/29']\n",
      "+ Cell place: 2 - ['고성' '일해']\n"
     ]
    },
    {
     "data": {
      "text/plain": "                         fcode  fdate fplace  \\\n0       2-1-1-2-2-1001-0120011  10/01     고성   \n1       2-1-1-2-2-1001-0120012  10/01     고성   \n2       2-1-1-2-2-1001-0120013  10/01     고성   \n3       2-1-1-2-2-1001-0120014  10/01     고성   \n4       2-1-1-2-2-1001-0120015  10/01     고성   \n...                        ...    ...    ...   \n122165  2-1-1-2-2-1029-0414502  10/29     일해   \n122166  2-1-1-2-2-1029-0414503  10/29     일해   \n122167  2-1-1-2-2-1029-0414504  10/29     일해   \n122168  2-1-1-2-2-1029-0414505  10/29     일해   \n122169  2-1-1-2-2-1029-0414506  10/29     일해   \n\n                                            fpath  \n0       먹이생물/10월01일/고성/2-1-1-2-2-1001-0120011.jpg  \n1       먹이생물/10월01일/고성/2-1-1-2-2-1001-0120012.jpg  \n2       먹이생물/10월01일/고성/2-1-1-2-2-1001-0120013.jpg  \n3       먹이생물/10월01일/고성/2-1-1-2-2-1001-0120014.jpg  \n4       먹이생물/10월01일/고성/2-1-1-2-2-1001-0120015.jpg  \n...                                           ...  \n122165  먹이생물/10월29일/일해/2-1-1-2-2-1029-0414502.jpg  \n122166  먹이생물/10월29일/일해/2-1-1-2-2-1029-0414503.jpg  \n122167  먹이생물/10월29일/일해/2-1-1-2-2-1029-0414504.jpg  \n122168  먹이생물/10월29일/일해/2-1-1-2-2-1029-0414505.jpg  \n122169  먹이생물/10월29일/일해/2-1-1-2-2-1029-0414506.jpg  \n\n[122170 rows x 4 columns]",
      "text/html": "<div>\n<style scoped>\n    .dataframe tbody tr th:only-of-type {\n        vertical-align: middle;\n    }\n\n    .dataframe tbody tr th {\n        vertical-align: top;\n    }\n\n    .dataframe thead th {\n        text-align: right;\n    }\n</style>\n<table border=\"1\" class=\"dataframe\">\n  <thead>\n    <tr style=\"text-align: right;\">\n      <th></th>\n      <th>fcode</th>\n      <th>fdate</th>\n      <th>fplace</th>\n      <th>fpath</th>\n    </tr>\n  </thead>\n  <tbody>\n    <tr>\n      <th>0</th>\n      <td>2-1-1-2-2-1001-0120011</td>\n      <td>10/01</td>\n      <td>고성</td>\n      <td>먹이생물/10월01일/고성/2-1-1-2-2-1001-0120011.jpg</td>\n    </tr>\n    <tr>\n      <th>1</th>\n      <td>2-1-1-2-2-1001-0120012</td>\n      <td>10/01</td>\n      <td>고성</td>\n      <td>먹이생물/10월01일/고성/2-1-1-2-2-1001-0120012.jpg</td>\n    </tr>\n    <tr>\n      <th>2</th>\n      <td>2-1-1-2-2-1001-0120013</td>\n      <td>10/01</td>\n      <td>고성</td>\n      <td>먹이생물/10월01일/고성/2-1-1-2-2-1001-0120013.jpg</td>\n    </tr>\n    <tr>\n      <th>3</th>\n      <td>2-1-1-2-2-1001-0120014</td>\n      <td>10/01</td>\n      <td>고성</td>\n      <td>먹이생물/10월01일/고성/2-1-1-2-2-1001-0120014.jpg</td>\n    </tr>\n    <tr>\n      <th>4</th>\n      <td>2-1-1-2-2-1001-0120015</td>\n      <td>10/01</td>\n      <td>고성</td>\n      <td>먹이생물/10월01일/고성/2-1-1-2-2-1001-0120015.jpg</td>\n    </tr>\n    <tr>\n      <th>...</th>\n      <td>...</td>\n      <td>...</td>\n      <td>...</td>\n      <td>...</td>\n    </tr>\n    <tr>\n      <th>122165</th>\n      <td>2-1-1-2-2-1029-0414502</td>\n      <td>10/29</td>\n      <td>일해</td>\n      <td>먹이생물/10월29일/일해/2-1-1-2-2-1029-0414502.jpg</td>\n    </tr>\n    <tr>\n      <th>122166</th>\n      <td>2-1-1-2-2-1029-0414503</td>\n      <td>10/29</td>\n      <td>일해</td>\n      <td>먹이생물/10월29일/일해/2-1-1-2-2-1029-0414503.jpg</td>\n    </tr>\n    <tr>\n      <th>122167</th>\n      <td>2-1-1-2-2-1029-0414504</td>\n      <td>10/29</td>\n      <td>일해</td>\n      <td>먹이생물/10월29일/일해/2-1-1-2-2-1029-0414504.jpg</td>\n    </tr>\n    <tr>\n      <th>122168</th>\n      <td>2-1-1-2-2-1029-0414505</td>\n      <td>10/29</td>\n      <td>일해</td>\n      <td>먹이생물/10월29일/일해/2-1-1-2-2-1029-0414505.jpg</td>\n    </tr>\n    <tr>\n      <th>122169</th>\n      <td>2-1-1-2-2-1029-0414506</td>\n      <td>10/29</td>\n      <td>일해</td>\n      <td>먹이생물/10월29일/일해/2-1-1-2-2-1029-0414506.jpg</td>\n    </tr>\n  </tbody>\n</table>\n<p>122170 rows × 4 columns</p>\n</div>"
     },
     "metadata": {},
     "output_type": "display_data"
    },
    {
     "name": "stderr",
     "output_type": "stream",
     "text": [
      "Process csv:  45%|████▌     | 19/42 [00:00<00:00, 182.69it/s]"
     ]
    },
    {
     "name": "stdout",
     "output_type": "stream",
     "text": [
      "\n",
      "[Process csv files]\n"
     ]
    },
    {
     "name": "stderr",
     "output_type": "stream",
     "text": [
      "Process csv: 100%|██████████| 42/42 [00:00<00:00, 148.15it/s]\n"
     ]
    },
    {
     "name": "stdout",
     "output_type": "stream",
     "text": [
      "\n",
      "[Information from Sensors]\n",
      "+ Sensors codes: 123814 / 123814\n",
      "+ Sensors files: 42\n",
      "+ Sensors dates: 21 - ['10/01' '10/04' '10/05' '10/06' '10/07' '10/08' '10/11' '10/12' '10/13'\n",
      " '10/14' '10/15' '10/18' '10/19' '10/20' '10/21' '10/22' '10/25' '10/26'\n",
      " '10/27' '10/28' '10/29']\n"
     ]
    },
    {
     "data": {
      "text/plain": "                       ccode  cdate                 ID CODE  Temperatue    DO  \\\n0     2-1-1-1-1-1001-0010000  10/01  2-1-1-2-2-1001-0110011       23.65  7.08   \n1     2-1-1-1-1-1001-0010000  10/01  2-1-1-2-2-1001-0110012       23.65  7.08   \n2     2-1-1-1-1-1001-0010000  10/01  2-1-1-2-2-1001-0110013       23.65  7.08   \n3     2-1-1-1-1-1001-0010000  10/01  2-1-1-2-2-1001-0110014       23.65  7.08   \n4     2-1-1-1-1-1001-0010000  10/01  2-1-1-2-2-1001-0110015       23.65  7.08   \n...                      ...    ...                     ...         ...   ...   \n3567  2-1-1-1-1-1029-0020000  10/29  2-1-1-2-2-1029-0526002       25.02  8.40   \n3568  2-1-1-1-1-1029-0020000  10/29  2-1-1-2-2-1029-0526003       25.02  8.40   \n3569  2-1-1-1-1-1029-0020000  10/29  2-1-1-2-2-1029-0526004       25.02  8.40   \n3570  2-1-1-1-1-1029-0020000  10/29  2-1-1-2-2-1029-0526005       25.02  8.40   \n3571  2-1-1-1-1-1029-0020000  10/29  2-1-1-2-2-1029-0526006       25.02  8.40   \n\n        pH  salinity   NTU  \n0     8.39     31.75  2.95  \n1     8.39     31.75  2.95  \n2     8.39     31.75  2.95  \n3     8.39     31.75  2.95  \n4     8.39     31.75  2.95  \n...    ...       ...   ...  \n3567  9.18     34.35  8.71  \n3568  9.18     34.35  8.71  \n3569  9.18     34.35  8.71  \n3570  9.18     34.35  8.71  \n3571  9.18     34.35  8.71  \n\n[123814 rows x 8 columns]",
      "text/html": "<div>\n<style scoped>\n    .dataframe tbody tr th:only-of-type {\n        vertical-align: middle;\n    }\n\n    .dataframe tbody tr th {\n        vertical-align: top;\n    }\n\n    .dataframe thead th {\n        text-align: right;\n    }\n</style>\n<table border=\"1\" class=\"dataframe\">\n  <thead>\n    <tr style=\"text-align: right;\">\n      <th></th>\n      <th>ccode</th>\n      <th>cdate</th>\n      <th>ID CODE</th>\n      <th>Temperatue</th>\n      <th>DO</th>\n      <th>pH</th>\n      <th>salinity</th>\n      <th>NTU</th>\n    </tr>\n  </thead>\n  <tbody>\n    <tr>\n      <th>0</th>\n      <td>2-1-1-1-1-1001-0010000</td>\n      <td>10/01</td>\n      <td>2-1-1-2-2-1001-0110011</td>\n      <td>23.65</td>\n      <td>7.08</td>\n      <td>8.39</td>\n      <td>31.75</td>\n      <td>2.95</td>\n    </tr>\n    <tr>\n      <th>1</th>\n      <td>2-1-1-1-1-1001-0010000</td>\n      <td>10/01</td>\n      <td>2-1-1-2-2-1001-0110012</td>\n      <td>23.65</td>\n      <td>7.08</td>\n      <td>8.39</td>\n      <td>31.75</td>\n      <td>2.95</td>\n    </tr>\n    <tr>\n      <th>2</th>\n      <td>2-1-1-1-1-1001-0010000</td>\n      <td>10/01</td>\n      <td>2-1-1-2-2-1001-0110013</td>\n      <td>23.65</td>\n      <td>7.08</td>\n      <td>8.39</td>\n      <td>31.75</td>\n      <td>2.95</td>\n    </tr>\n    <tr>\n      <th>3</th>\n      <td>2-1-1-1-1-1001-0010000</td>\n      <td>10/01</td>\n      <td>2-1-1-2-2-1001-0110014</td>\n      <td>23.65</td>\n      <td>7.08</td>\n      <td>8.39</td>\n      <td>31.75</td>\n      <td>2.95</td>\n    </tr>\n    <tr>\n      <th>4</th>\n      <td>2-1-1-1-1-1001-0010000</td>\n      <td>10/01</td>\n      <td>2-1-1-2-2-1001-0110015</td>\n      <td>23.65</td>\n      <td>7.08</td>\n      <td>8.39</td>\n      <td>31.75</td>\n      <td>2.95</td>\n    </tr>\n    <tr>\n      <th>...</th>\n      <td>...</td>\n      <td>...</td>\n      <td>...</td>\n      <td>...</td>\n      <td>...</td>\n      <td>...</td>\n      <td>...</td>\n      <td>...</td>\n    </tr>\n    <tr>\n      <th>3567</th>\n      <td>2-1-1-1-1-1029-0020000</td>\n      <td>10/29</td>\n      <td>2-1-1-2-2-1029-0526002</td>\n      <td>25.02</td>\n      <td>8.40</td>\n      <td>9.18</td>\n      <td>34.35</td>\n      <td>8.71</td>\n    </tr>\n    <tr>\n      <th>3568</th>\n      <td>2-1-1-1-1-1029-0020000</td>\n      <td>10/29</td>\n      <td>2-1-1-2-2-1029-0526003</td>\n      <td>25.02</td>\n      <td>8.40</td>\n      <td>9.18</td>\n      <td>34.35</td>\n      <td>8.71</td>\n    </tr>\n    <tr>\n      <th>3569</th>\n      <td>2-1-1-1-1-1029-0020000</td>\n      <td>10/29</td>\n      <td>2-1-1-2-2-1029-0526004</td>\n      <td>25.02</td>\n      <td>8.40</td>\n      <td>9.18</td>\n      <td>34.35</td>\n      <td>8.71</td>\n    </tr>\n    <tr>\n      <th>3570</th>\n      <td>2-1-1-1-1-1029-0020000</td>\n      <td>10/29</td>\n      <td>2-1-1-2-2-1029-0526005</td>\n      <td>25.02</td>\n      <td>8.40</td>\n      <td>9.18</td>\n      <td>34.35</td>\n      <td>8.71</td>\n    </tr>\n    <tr>\n      <th>3571</th>\n      <td>2-1-1-1-1-1029-0020000</td>\n      <td>10/29</td>\n      <td>2-1-1-2-2-1029-0526006</td>\n      <td>25.02</td>\n      <td>8.40</td>\n      <td>9.18</td>\n      <td>34.35</td>\n      <td>8.71</td>\n    </tr>\n  </tbody>\n</table>\n<p>123814 rows × 8 columns</p>\n</div>"
     },
     "metadata": {},
     "output_type": "display_data"
    },
    {
     "name": "stderr",
     "output_type": "stream",
     "text": [
      "  0%|          | 0/122170 [00:00<?, ?it/s]"
     ]
    },
    {
     "name": "stdout",
     "output_type": "stream",
     "text": [
      "\n",
      "[Check Data Integraty between Sensor Data and Microscopy Images]\n"
     ]
    },
    {
     "name": "stderr",
     "output_type": "stream",
     "text": [
      "100%|██████████| 122170/122170 [00:06<00:00, 20261.31it/s]\n",
      "100%|██████████| 123814/123814 [00:10<00:00, 11435.41it/s]\n"
     ]
    },
    {
     "name": "stdout",
     "output_type": "stream",
     "text": [
      "Data Integrity: \n",
      "+ Sensors, not cell : 1648\n",
      "+ Not Sensors, cell : 4\n",
      "+ Both Sensors, cell: 122166\n",
      "+ Total: 123818\n"
     ]
    },
    {
     "data": {
      "text/plain": "                       id_code  csv  cell\n14130   2-1-1-2-2-1005-0312771    1     0\n16438   2-1-1-2-2-1005-0424556    1     0\n33784   2-1-1-2-2-1008-0424802    1     0\n33785   2-1-1-2-2-1008-0424803    1     0\n112401  2-1-1-2-2-1028-0111192    1     0\n...                        ...  ...   ...\n115240  2-1-1-2-2-1028-0414502    1     0\n115241  2-1-1-2-2-1028-0414503    1     0\n115242  2-1-1-2-2-1028-0414504    1     0\n115243  2-1-1-2-2-1028-0414505    1     0\n115244  2-1-1-2-2-1028-0414506    1     0\n\n[1648 rows x 3 columns]",
      "text/html": "<div>\n<style scoped>\n    .dataframe tbody tr th:only-of-type {\n        vertical-align: middle;\n    }\n\n    .dataframe tbody tr th {\n        vertical-align: top;\n    }\n\n    .dataframe thead th {\n        text-align: right;\n    }\n</style>\n<table border=\"1\" class=\"dataframe\">\n  <thead>\n    <tr style=\"text-align: right;\">\n      <th></th>\n      <th>id_code</th>\n      <th>csv</th>\n      <th>cell</th>\n    </tr>\n  </thead>\n  <tbody>\n    <tr>\n      <th>14130</th>\n      <td>2-1-1-2-2-1005-0312771</td>\n      <td>1</td>\n      <td>0</td>\n    </tr>\n    <tr>\n      <th>16438</th>\n      <td>2-1-1-2-2-1005-0424556</td>\n      <td>1</td>\n      <td>0</td>\n    </tr>\n    <tr>\n      <th>33784</th>\n      <td>2-1-1-2-2-1008-0424802</td>\n      <td>1</td>\n      <td>0</td>\n    </tr>\n    <tr>\n      <th>33785</th>\n      <td>2-1-1-2-2-1008-0424803</td>\n      <td>1</td>\n      <td>0</td>\n    </tr>\n    <tr>\n      <th>112401</th>\n      <td>2-1-1-2-2-1028-0111192</td>\n      <td>1</td>\n      <td>0</td>\n    </tr>\n    <tr>\n      <th>...</th>\n      <td>...</td>\n      <td>...</td>\n      <td>...</td>\n    </tr>\n    <tr>\n      <th>115240</th>\n      <td>2-1-1-2-2-1028-0414502</td>\n      <td>1</td>\n      <td>0</td>\n    </tr>\n    <tr>\n      <th>115241</th>\n      <td>2-1-1-2-2-1028-0414503</td>\n      <td>1</td>\n      <td>0</td>\n    </tr>\n    <tr>\n      <th>115242</th>\n      <td>2-1-1-2-2-1028-0414504</td>\n      <td>1</td>\n      <td>0</td>\n    </tr>\n    <tr>\n      <th>115243</th>\n      <td>2-1-1-2-2-1028-0414505</td>\n      <td>1</td>\n      <td>0</td>\n    </tr>\n    <tr>\n      <th>115244</th>\n      <td>2-1-1-2-2-1028-0414506</td>\n      <td>1</td>\n      <td>0</td>\n    </tr>\n  </tbody>\n</table>\n<p>1648 rows × 3 columns</p>\n</div>"
     },
     "metadata": {},
     "output_type": "display_data"
    },
    {
     "data": {
      "text/plain": "                      id_code  csv  cell\n14024  2-1-1-2-2-1005-0312471    0     1\n16018  2-1-1-2-2-1005-0423856    0     1\n33135  2-1-1-2-2-1008-0423712    0     1\n33136  2-1-1-2-2-1008-0423713    0     1",
      "text/html": "<div>\n<style scoped>\n    .dataframe tbody tr th:only-of-type {\n        vertical-align: middle;\n    }\n\n    .dataframe tbody tr th {\n        vertical-align: top;\n    }\n\n    .dataframe thead th {\n        text-align: right;\n    }\n</style>\n<table border=\"1\" class=\"dataframe\">\n  <thead>\n    <tr style=\"text-align: right;\">\n      <th></th>\n      <th>id_code</th>\n      <th>csv</th>\n      <th>cell</th>\n    </tr>\n  </thead>\n  <tbody>\n    <tr>\n      <th>14024</th>\n      <td>2-1-1-2-2-1005-0312471</td>\n      <td>0</td>\n      <td>1</td>\n    </tr>\n    <tr>\n      <th>16018</th>\n      <td>2-1-1-2-2-1005-0423856</td>\n      <td>0</td>\n      <td>1</td>\n    </tr>\n    <tr>\n      <th>33135</th>\n      <td>2-1-1-2-2-1008-0423712</td>\n      <td>0</td>\n      <td>1</td>\n    </tr>\n    <tr>\n      <th>33136</th>\n      <td>2-1-1-2-2-1008-0423713</td>\n      <td>0</td>\n      <td>1</td>\n    </tr>\n  </tbody>\n</table>\n</div>"
     },
     "metadata": {},
     "output_type": "display_data"
    },
    {
     "data": {
      "text/plain": "                       id_code  csv  cell\n0       2-1-1-2-2-1001-0110011    1     1\n1       2-1-1-2-2-1001-0110012    1     1\n2       2-1-1-2-2-1001-0110013    1     1\n3       2-1-1-2-2-1001-0110014    1     1\n4       2-1-1-2-2-1001-0110015    1     1\n...                        ...  ...   ...\n123813  2-1-1-2-2-1029-0526002    1     1\n123814  2-1-1-2-2-1029-0526003    1     1\n123815  2-1-1-2-2-1029-0526004    1     1\n123816  2-1-1-2-2-1029-0526005    1     1\n123817  2-1-1-2-2-1029-0526006    1     1\n\n[123818 rows x 3 columns]",
      "text/html": "<div>\n<style scoped>\n    .dataframe tbody tr th:only-of-type {\n        vertical-align: middle;\n    }\n\n    .dataframe tbody tr th {\n        vertical-align: top;\n    }\n\n    .dataframe thead th {\n        text-align: right;\n    }\n</style>\n<table border=\"1\" class=\"dataframe\">\n  <thead>\n    <tr style=\"text-align: right;\">\n      <th></th>\n      <th>id_code</th>\n      <th>csv</th>\n      <th>cell</th>\n    </tr>\n  </thead>\n  <tbody>\n    <tr>\n      <th>0</th>\n      <td>2-1-1-2-2-1001-0110011</td>\n      <td>1</td>\n      <td>1</td>\n    </tr>\n    <tr>\n      <th>1</th>\n      <td>2-1-1-2-2-1001-0110012</td>\n      <td>1</td>\n      <td>1</td>\n    </tr>\n    <tr>\n      <th>2</th>\n      <td>2-1-1-2-2-1001-0110013</td>\n      <td>1</td>\n      <td>1</td>\n    </tr>\n    <tr>\n      <th>3</th>\n      <td>2-1-1-2-2-1001-0110014</td>\n      <td>1</td>\n      <td>1</td>\n    </tr>\n    <tr>\n      <th>4</th>\n      <td>2-1-1-2-2-1001-0110015</td>\n      <td>1</td>\n      <td>1</td>\n    </tr>\n    <tr>\n      <th>...</th>\n      <td>...</td>\n      <td>...</td>\n      <td>...</td>\n    </tr>\n    <tr>\n      <th>123813</th>\n      <td>2-1-1-2-2-1029-0526002</td>\n      <td>1</td>\n      <td>1</td>\n    </tr>\n    <tr>\n      <th>123814</th>\n      <td>2-1-1-2-2-1029-0526003</td>\n      <td>1</td>\n      <td>1</td>\n    </tr>\n    <tr>\n      <th>123815</th>\n      <td>2-1-1-2-2-1029-0526004</td>\n      <td>1</td>\n      <td>1</td>\n    </tr>\n    <tr>\n      <th>123816</th>\n      <td>2-1-1-2-2-1029-0526005</td>\n      <td>1</td>\n      <td>1</td>\n    </tr>\n    <tr>\n      <th>123817</th>\n      <td>2-1-1-2-2-1029-0526006</td>\n      <td>1</td>\n      <td>1</td>\n    </tr>\n  </tbody>\n</table>\n<p>123818 rows × 3 columns</p>\n</div>"
     },
     "metadata": {},
     "output_type": "display_data"
    },
    {
     "name": "stdout",
     "output_type": "stream",
     "text": [
      "\n",
      "[Merge Data between Sensor Data and Microscopy Images]\n"
     ]
    },
    {
     "data": {
      "text/plain": "                         index                   ccode  cdate  \\\n0       2-1-1-2-2-1001-0110011  2-1-1-1-1-1001-0010000  10/01   \n1       2-1-1-2-2-1001-0110012  2-1-1-1-1-1001-0010000  10/01   \n2       2-1-1-2-2-1001-0110013  2-1-1-1-1-1001-0010000  10/01   \n3       2-1-1-2-2-1001-0110014  2-1-1-1-1-1001-0010000  10/01   \n4       2-1-1-2-2-1001-0110015  2-1-1-1-1-1001-0010000  10/01   \n...                        ...                     ...    ...   \n123813  2-1-1-2-2-1029-0526002  2-1-1-1-1-1029-0020000  10/29   \n123814  2-1-1-2-2-1029-0526003  2-1-1-1-1-1029-0020000  10/29   \n123815  2-1-1-2-2-1029-0526004  2-1-1-1-1-1029-0020000  10/29   \n123816  2-1-1-2-2-1029-0526005  2-1-1-1-1-1029-0020000  10/29   \n123817  2-1-1-2-2-1029-0526006  2-1-1-1-1-1029-0020000  10/29   \n\n                       ID CODE  Temperatue    DO    pH  salinity   NTU  \\\n0       2-1-1-2-2-1001-0110011       23.65  7.08  8.39     31.75  2.95   \n1       2-1-1-2-2-1001-0110012       23.65  7.08  8.39     31.75  2.95   \n2       2-1-1-2-2-1001-0110013       23.65  7.08  8.39     31.75  2.95   \n3       2-1-1-2-2-1001-0110014       23.65  7.08  8.39     31.75  2.95   \n4       2-1-1-2-2-1001-0110015       23.65  7.08  8.39     31.75  2.95   \n...                        ...         ...   ...   ...       ...   ...   \n123813  2-1-1-2-2-1029-0526002       25.02  8.40  9.18     34.35  8.71   \n123814  2-1-1-2-2-1029-0526003       25.02  8.40  9.18     34.35  8.71   \n123815  2-1-1-2-2-1029-0526004       25.02  8.40  9.18     34.35  8.71   \n123816  2-1-1-2-2-1029-0526005       25.02  8.40  9.18     34.35  8.71   \n123817  2-1-1-2-2-1029-0526006       25.02  8.40  9.18     34.35  8.71   \n\n                         fcode  fdate fplace  \\\n0       2-1-1-2-2-1001-0110011  10/01     일해   \n1       2-1-1-2-2-1001-0110012  10/01     일해   \n2       2-1-1-2-2-1001-0110013  10/01     일해   \n3       2-1-1-2-2-1001-0110014  10/01     일해   \n4       2-1-1-2-2-1001-0110015  10/01     일해   \n...                        ...    ...    ...   \n123813  2-1-1-2-2-1029-0526002  10/29     고성   \n123814  2-1-1-2-2-1029-0526003  10/29     고성   \n123815  2-1-1-2-2-1029-0526004  10/29     고성   \n123816  2-1-1-2-2-1029-0526005  10/29     고성   \n123817  2-1-1-2-2-1029-0526006  10/29     고성   \n\n                                            fpath  \n0       먹이생물/10월01일/일해/2-1-1-2-2-1001-0110011.jpg  \n1       먹이생물/10월01일/일해/2-1-1-2-2-1001-0110012.jpg  \n2       먹이생물/10월01일/일해/2-1-1-2-2-1001-0110013.jpg  \n3       먹이생물/10월01일/일해/2-1-1-2-2-1001-0110014.jpg  \n4       먹이생물/10월01일/일해/2-1-1-2-2-1001-0110015.jpg  \n...                                           ...  \n123813  먹이생물/10월29일/고성/2-1-1-2-2-1029-0526002.jpg  \n123814  먹이생물/10월29일/고성/2-1-1-2-2-1029-0526003.jpg  \n123815  먹이생물/10월29일/고성/2-1-1-2-2-1029-0526004.jpg  \n123816  먹이생물/10월29일/고성/2-1-1-2-2-1029-0526005.jpg  \n123817  먹이생물/10월29일/고성/2-1-1-2-2-1029-0526006.jpg  \n\n[123818 rows x 13 columns]",
      "text/html": "<div>\n<style scoped>\n    .dataframe tbody tr th:only-of-type {\n        vertical-align: middle;\n    }\n\n    .dataframe tbody tr th {\n        vertical-align: top;\n    }\n\n    .dataframe thead th {\n        text-align: right;\n    }\n</style>\n<table border=\"1\" class=\"dataframe\">\n  <thead>\n    <tr style=\"text-align: right;\">\n      <th></th>\n      <th>index</th>\n      <th>ccode</th>\n      <th>cdate</th>\n      <th>ID CODE</th>\n      <th>Temperatue</th>\n      <th>DO</th>\n      <th>pH</th>\n      <th>salinity</th>\n      <th>NTU</th>\n      <th>fcode</th>\n      <th>fdate</th>\n      <th>fplace</th>\n      <th>fpath</th>\n    </tr>\n  </thead>\n  <tbody>\n    <tr>\n      <th>0</th>\n      <td>2-1-1-2-2-1001-0110011</td>\n      <td>2-1-1-1-1-1001-0010000</td>\n      <td>10/01</td>\n      <td>2-1-1-2-2-1001-0110011</td>\n      <td>23.65</td>\n      <td>7.08</td>\n      <td>8.39</td>\n      <td>31.75</td>\n      <td>2.95</td>\n      <td>2-1-1-2-2-1001-0110011</td>\n      <td>10/01</td>\n      <td>일해</td>\n      <td>먹이생물/10월01일/일해/2-1-1-2-2-1001-0110011.jpg</td>\n    </tr>\n    <tr>\n      <th>1</th>\n      <td>2-1-1-2-2-1001-0110012</td>\n      <td>2-1-1-1-1-1001-0010000</td>\n      <td>10/01</td>\n      <td>2-1-1-2-2-1001-0110012</td>\n      <td>23.65</td>\n      <td>7.08</td>\n      <td>8.39</td>\n      <td>31.75</td>\n      <td>2.95</td>\n      <td>2-1-1-2-2-1001-0110012</td>\n      <td>10/01</td>\n      <td>일해</td>\n      <td>먹이생물/10월01일/일해/2-1-1-2-2-1001-0110012.jpg</td>\n    </tr>\n    <tr>\n      <th>2</th>\n      <td>2-1-1-2-2-1001-0110013</td>\n      <td>2-1-1-1-1-1001-0010000</td>\n      <td>10/01</td>\n      <td>2-1-1-2-2-1001-0110013</td>\n      <td>23.65</td>\n      <td>7.08</td>\n      <td>8.39</td>\n      <td>31.75</td>\n      <td>2.95</td>\n      <td>2-1-1-2-2-1001-0110013</td>\n      <td>10/01</td>\n      <td>일해</td>\n      <td>먹이생물/10월01일/일해/2-1-1-2-2-1001-0110013.jpg</td>\n    </tr>\n    <tr>\n      <th>3</th>\n      <td>2-1-1-2-2-1001-0110014</td>\n      <td>2-1-1-1-1-1001-0010000</td>\n      <td>10/01</td>\n      <td>2-1-1-2-2-1001-0110014</td>\n      <td>23.65</td>\n      <td>7.08</td>\n      <td>8.39</td>\n      <td>31.75</td>\n      <td>2.95</td>\n      <td>2-1-1-2-2-1001-0110014</td>\n      <td>10/01</td>\n      <td>일해</td>\n      <td>먹이생물/10월01일/일해/2-1-1-2-2-1001-0110014.jpg</td>\n    </tr>\n    <tr>\n      <th>4</th>\n      <td>2-1-1-2-2-1001-0110015</td>\n      <td>2-1-1-1-1-1001-0010000</td>\n      <td>10/01</td>\n      <td>2-1-1-2-2-1001-0110015</td>\n      <td>23.65</td>\n      <td>7.08</td>\n      <td>8.39</td>\n      <td>31.75</td>\n      <td>2.95</td>\n      <td>2-1-1-2-2-1001-0110015</td>\n      <td>10/01</td>\n      <td>일해</td>\n      <td>먹이생물/10월01일/일해/2-1-1-2-2-1001-0110015.jpg</td>\n    </tr>\n    <tr>\n      <th>...</th>\n      <td>...</td>\n      <td>...</td>\n      <td>...</td>\n      <td>...</td>\n      <td>...</td>\n      <td>...</td>\n      <td>...</td>\n      <td>...</td>\n      <td>...</td>\n      <td>...</td>\n      <td>...</td>\n      <td>...</td>\n      <td>...</td>\n    </tr>\n    <tr>\n      <th>123813</th>\n      <td>2-1-1-2-2-1029-0526002</td>\n      <td>2-1-1-1-1-1029-0020000</td>\n      <td>10/29</td>\n      <td>2-1-1-2-2-1029-0526002</td>\n      <td>25.02</td>\n      <td>8.40</td>\n      <td>9.18</td>\n      <td>34.35</td>\n      <td>8.71</td>\n      <td>2-1-1-2-2-1029-0526002</td>\n      <td>10/29</td>\n      <td>고성</td>\n      <td>먹이생물/10월29일/고성/2-1-1-2-2-1029-0526002.jpg</td>\n    </tr>\n    <tr>\n      <th>123814</th>\n      <td>2-1-1-2-2-1029-0526003</td>\n      <td>2-1-1-1-1-1029-0020000</td>\n      <td>10/29</td>\n      <td>2-1-1-2-2-1029-0526003</td>\n      <td>25.02</td>\n      <td>8.40</td>\n      <td>9.18</td>\n      <td>34.35</td>\n      <td>8.71</td>\n      <td>2-1-1-2-2-1029-0526003</td>\n      <td>10/29</td>\n      <td>고성</td>\n      <td>먹이생물/10월29일/고성/2-1-1-2-2-1029-0526003.jpg</td>\n    </tr>\n    <tr>\n      <th>123815</th>\n      <td>2-1-1-2-2-1029-0526004</td>\n      <td>2-1-1-1-1-1029-0020000</td>\n      <td>10/29</td>\n      <td>2-1-1-2-2-1029-0526004</td>\n      <td>25.02</td>\n      <td>8.40</td>\n      <td>9.18</td>\n      <td>34.35</td>\n      <td>8.71</td>\n      <td>2-1-1-2-2-1029-0526004</td>\n      <td>10/29</td>\n      <td>고성</td>\n      <td>먹이생물/10월29일/고성/2-1-1-2-2-1029-0526004.jpg</td>\n    </tr>\n    <tr>\n      <th>123816</th>\n      <td>2-1-1-2-2-1029-0526005</td>\n      <td>2-1-1-1-1-1029-0020000</td>\n      <td>10/29</td>\n      <td>2-1-1-2-2-1029-0526005</td>\n      <td>25.02</td>\n      <td>8.40</td>\n      <td>9.18</td>\n      <td>34.35</td>\n      <td>8.71</td>\n      <td>2-1-1-2-2-1029-0526005</td>\n      <td>10/29</td>\n      <td>고성</td>\n      <td>먹이생물/10월29일/고성/2-1-1-2-2-1029-0526005.jpg</td>\n    </tr>\n    <tr>\n      <th>123817</th>\n      <td>2-1-1-2-2-1029-0526006</td>\n      <td>2-1-1-1-1-1029-0020000</td>\n      <td>10/29</td>\n      <td>2-1-1-2-2-1029-0526006</td>\n      <td>25.02</td>\n      <td>8.40</td>\n      <td>9.18</td>\n      <td>34.35</td>\n      <td>8.71</td>\n      <td>2-1-1-2-2-1029-0526006</td>\n      <td>10/29</td>\n      <td>고성</td>\n      <td>먹이생물/10월29일/고성/2-1-1-2-2-1029-0526006.jpg</td>\n    </tr>\n  </tbody>\n</table>\n<p>123818 rows × 13 columns</p>\n</div>"
     },
     "metadata": {},
     "output_type": "display_data"
    },
    {
     "name": "stdout",
     "output_type": "stream",
     "text": [
      "----------\n",
      "Save /media/pc/WORK/DNTAI/works/prlab/2021/projects/aquaculture_ai_context_2111/workspaces/aquaculture_ai_contest/data/preprocessed/full_info.xlsx\n",
      "Save /media/pc/WORK/DNTAI/works/prlab/2021/projects/aquaculture_ai_context_2111/workspaces/aquaculture_ai_contest/data/preprocessed/full_info.hdf5\n",
      "\n",
      "[Program Exit]\n",
      "+ Exit Code: 0\n"
     ]
    }
   ],
   "source": [
    "%run ../aquaculture/cli_main.py index"
   ],
   "metadata": {
    "collapsed": false,
    "pycharm": {
     "name": "#%%\n"
    }
   }
  },
  {
   "cell_type": "code",
   "execution_count": 3,
   "metadata": {
    "collapsed": true
   },
   "outputs": [
    {
     "name": "stdout",
     "output_type": "stream",
     "text": [
      "[NbConvertApp] Converting notebook 01_index.ipynb to html\r\n",
      "[NbConvertApp] Writing 596729 bytes to 01_index.html\r\n",
      "[NbConvertApp] Converting notebook 01_index.ipynb to html\r\n",
      "[NbConvertApp] Writing 596729 bytes to 01_index.html\r\n"
     ]
    }
   ],
   "source": [
    "!jupyter nbconvert 01_index.ipynb --to html"
   ]
  }
 ],
 "metadata": {
  "kernelspec": {
   "display_name": "Python 3",
   "language": "python",
   "name": "python3"
  },
  "language_info": {
   "codemirror_mode": {
    "name": "ipython",
    "version": 2
   },
   "file_extension": ".py",
   "mimetype": "text/x-python",
   "name": "python",
   "nbconvert_exporter": "python",
   "pygments_lexer": "ipython2",
   "version": "2.7.6"
  }
 },
 "nbformat": 4,
 "nbformat_minor": 0
}
{
 "cells": [
  {
   "cell_type": "code",
   "execution_count": 3,
   "metadata": {
    "collapsed": true
   },
   "outputs": [
    {
     "name": "stdout",
     "output_type": "stream",
     "text": [
      "The autoreload extension is already loaded. To reload it, use:\n",
      "  %reload_ext autoreload\n",
      "--------------------------------------------------\n",
      "[Command detect-all] - 211219_032454_84 - /media/pc/WORK/DNTAI/works/prlab/2021/projects/aquaculture_ai_context_2111/workspaces/aquaculture_ai_contest/aquaculture/cli_main.py\n",
      "--------------------------------------------------\n",
      "params: \n",
      "+ ncells_detect: -1\n",
      "+ dataset_dir: '/media/pc/WORK/DNTAI/works/prlab/2021/projects/aquaculture_ai_context_2111/workspaces/aquaculture_ai_contest/data/a2i_data'\n",
      "+ preprocess_dir: '/media/pc/WORK/DNTAI/works/prlab/2021/projects/aquaculture_ai_context_2111/workspaces/aquaculture_ai_contest/data/preprocessed'\n",
      "+ index_file: '/media/pc/WORK/DNTAI/works/prlab/2021/projects/aquaculture_ai_context_2111/workspaces/aquaculture_ai_contest/data/preprocessed/full_info.hdf5'\n",
      "+ exps_dir: '/media/pc/WORK/DNTAI/works/prlab/2021/projects/aquaculture_ai_context_2111/workspaces/aquaculture_ai_contest/data/exps'\n",
      "+ export_dir: '/media/pc/WORK/DNTAI/works/prlab/2021/projects/aquaculture_ai_context_2111/workspaces/aquaculture_ai_contest/aquaculture/assets/data'\n",
      "+ has_save: False\n",
      "+ debug: 0\n",
      "+ add_evalf: ('logs_file',\n",
      " 'dataset_dir',\n",
      " 'export_dir',\n",
      " 'preprocess_dir',\n",
      " 'index_file',\n",
      " 'exps_dir')\n",
      "+ evalf: ['logs_file',\n",
      " 'logs_file',\n",
      " 'dataset_dir',\n",
      " 'export_dir',\n",
      " 'preprocess_dir',\n",
      " 'index_file',\n",
      " 'exps_dir']\n",
      "+ app_cfg: ''\n",
      "+ logs_file: '/media/pc/WORK/DNTAI/works/prlab/2021/projects/aquaculture_ai_context_2111/workspaces/aquaculture_ai_contest/data/exps/logs/detect_all.txt'\n",
      "+ script_dir: '/media/pc/WORK/DNTAI/works/prlab/2021/projects/aquaculture_ai_context_2111/workspaces/aquaculture_ai_contest/aquaculture'\n",
      "+ script_date: datetime.datetime(2021, 12, 19, 3, 24, 54, 21101)\n",
      "+ script_sdate: '211219_032454_84'\n",
      "+ root_dir: '/media/pc/WORK/DNTAI/works/prlab/2021/projects/aquaculture_ai_context_2111/workspaces/aquaculture_ai_contest'\n",
      "+ data_dir: '/media/pc/WORK/DNTAI/works/prlab/2021/projects/aquaculture_ai_context_2111/workspaces/aquaculture_ai_contest/data'\n",
      "--------------------------------------------------\n",
      "Detect number of cells in all microscopy images\n",
      "+ Dataset dir: /media/pc/WORK/DNTAI/works/prlab/2021/projects/aquaculture_ai_context_2111/workspaces/aquaculture_ai_contest/data/a2i_data\n",
      "+ Index file: /media/pc/WORK/DNTAI/works/prlab/2021/projects/aquaculture_ai_context_2111/workspaces/aquaculture_ai_contest/data/preprocessed/full_info.hdf5\n",
      "+ Export dir: /media/pc/WORK/DNTAI/works/prlab/2021/projects/aquaculture_ai_context_2111/workspaces/aquaculture_ai_contest/aquaculture/assets/data\n",
      "+ Has Save: False\n",
      "+ Experiments dir: /media/pc/WORK/DNTAI/works/prlab/2021/projects/aquaculture_ai_context_2111/workspaces/aquaculture_ai_contest/data/exps\n",
      "----------\n"
     ]
    },
    {
     "name": "stderr",
     "output_type": "stream",
     "text": [
      "Detect cells:   0%|          | 9/123818 [00:00<23:34, 87.52it/s]"
     ]
    },
    {
     "name": "stdout",
     "output_type": "stream",
     "text": [
      "\n",
      "[Detect cells in microscopy images]\n"
     ]
    },
    {
     "name": "stderr",
     "output_type": "stream",
     "text": [
      "Detect cells: 100%|██████████| 123818/123818 [48:40<00:00, 42.40it/s]  \n"
     ]
    },
    {
     "name": "stdout",
     "output_type": "stream",
     "text": [
      "\n",
      "[Build final index data]\n",
      "\n",
      "[Save final index data]\n",
      "Save final index file /media/pc/WORK/DNTAI/works/prlab/2021/projects/aquaculture_ai_context_2111/workspaces/aquaculture_ai_contest/aquaculture/assets/data/final_info.csv\n",
      "Save final index file /media/pc/WORK/DNTAI/works/prlab/2021/projects/aquaculture_ai_context_2111/workspaces/aquaculture_ai_contest/data/preprocessed/final_info.xlsx\n",
      "Save final index file /media/pc/WORK/DNTAI/works/prlab/2021/projects/aquaculture_ai_context_2111/workspaces/aquaculture_ai_contest/data/preprocessed/final_info.hdf5\n",
      "Save final index file /media/pc/WORK/DNTAI/works/prlab/2021/projects/aquaculture_ai_context_2111/workspaces/aquaculture_ai_contest/data/preprocessed/final_info.csv\n",
      "\n",
      "[Program Exit]\n",
      "+ Exit Code: 0\n"
     ]
    }
   ],
   "source": [
    "%run ../aquaculture/cli_main.py detect-all --ncells-detect -1"
   ]
  },
  {
   "cell_type": "code",
   "execution_count": 4,
   "outputs": [
    {
     "name": "stdout",
     "output_type": "stream",
     "text": [
      "[NbConvertApp] Converting notebook 03_detect_all.ipynb to html\r\n",
      "[NbConvertApp] Writing 577438 bytes to 03_detect_all.html\r\n"
     ]
    }
   ],
   "source": [
    "!jupyter nbconvert 03_detect_all.ipynb --to html\n"
   ],
   "metadata": {
    "collapsed": false,
    "pycharm": {
     "name": "#%%\n"
    }
   }
  }
 ],
 "metadata": {
  "kernelspec": {
   "display_name": "Python 3",
   "language": "python",
   "name": "python3"
  },
  "language_info": {
   "codemirror_mode": {
    "name": "ipython",
    "version": 2
   },
   "file_extension": ".py",
   "mimetype": "text/x-python",
   "name": "python",
   "nbconvert_exporter": "python",
   "pygments_lexer": "ipython2",
   "version": "2.7.6"
  }
 },
 "nbformat": 4,
 "nbformat_minor": 0
}
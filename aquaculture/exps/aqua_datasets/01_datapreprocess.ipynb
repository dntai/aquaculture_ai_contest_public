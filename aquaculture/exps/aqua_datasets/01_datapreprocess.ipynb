{
 "cells": [
  {
   "cell_type": "code",
   "execution_count": 14,
   "metadata": {
    "collapsed": true
   },
   "outputs": [
    {
     "name": "stdout",
     "output_type": "stream",
     "text": [
      "The autoreload extension is already loaded. To reload it, use:\n",
      "  %reload_ext autoreload\n"
     ]
    }
   ],
   "source": [
    "from __future__ import absolute_import, division, print_function\n",
    "\n",
    "import numpy as np\n",
    "%load_ext autoreload\n",
    "%autoreload 2\n",
    "\n",
    "import sys, os\n",
    "script_dir  = os.path.normpath(os.path.abspath(\".\"))\n",
    "root_dir    = os.path.normpath(os.path.abspath(script_dir + \"/../..\"))\n",
    "if root_dir in sys.path: sys.path.remove(root_dir)\n",
    "sys.path.insert(1, root_dir)\n",
    "\n",
    "import warnings\n",
    "warnings.filterwarnings(\"ignore\")"
   ]
  },
  {
   "cell_type": "code",
   "execution_count": 343,
   "outputs": [],
   "source": [
    "import glob, pandas as pd\n",
    "import tqdm, numpy as np\n",
    "from IPython import display"
   ],
   "metadata": {
    "collapsed": false,
    "pycharm": {
     "name": "#%%\n"
    }
   }
  },
  {
   "cell_type": "code",
   "execution_count": 103,
   "outputs": [],
   "source": [
    "data_root = f'{root_dir}/data/AI_competition'\n",
    "prep_root = f'{data_root}/preprocessed'\n",
    "\n",
    "if os.path.exists(prep_root) == False: os.makedirs(prep_root)"
   ],
   "metadata": {
    "collapsed": false,
    "pycharm": {
     "name": "#%%\n"
    }
   }
  },
  {
   "cell_type": "code",
   "execution_count": 97,
   "outputs": [],
   "source": [
    "csv_files = [ os.path.relpath(sfile, start=data_root) for sfile in glob.glob(f'{data_root}/csv/*/*.csv')]\n",
    "csv_files.sort()\n",
    "\n",
    "cell_files = [ os.path.relpath(sfile, start=data_root) for sfile in glob.glob(f'{data_root}/*/*/*/*.*')]\n",
    "cell_files.sort()"
   ],
   "metadata": {
    "collapsed": false,
    "pycharm": {
     "name": "#%%\n"
    }
   }
  },
  {
   "cell_type": "code",
   "execution_count": 112,
   "outputs": [
    {
     "name": "stdout",
     "output_type": "stream",
     "text": [
      "Save /media/pc/WORK/DNTAI/works/prlab/2021/projects/aquaculture_ai_context_2111/workspaces/aquaculture_ai_contest/data/AI_competition/preprocessed/cell_files.txt\n"
     ]
    }
   ],
   "source": [
    "cell_files = np.array(cell_files)\n",
    "np.savetxt(f'{prep_root}/cell_files.txt', cell_files, fmt=\"%s\")\n",
    "print(f'Save {prep_root}/cell_files.txt')\n",
    "\n",
    "csv_files = np.array(csv_files)\n",
    "np.savetxt(f'{prep_root}/csv_files.txt', csv_files, fmt=\"%s\")"
   ],
   "metadata": {
    "collapsed": false,
    "pycharm": {
     "name": "#%%\n"
    }
   }
  },
  {
   "cell_type": "code",
   "execution_count": 121,
   "outputs": [
    {
     "name": "stderr",
     "output_type": "stream",
     "text": [
      "Process cell: 100%|██████████| 122170/122170 [00:00<00:00, 370370.08it/s]\n"
     ]
    }
   ],
   "source": [
    "df_cell = []\n",
    "for file in tqdm.tqdm(cell_files, \"Process cell\"):\n",
    "    cell_info = {}\n",
    "    file_info = file.split('/')\n",
    "    file_date = file_info[1].replace('월', '/').replace('일', '')\n",
    "    file_place= file_info[2]\n",
    "    file_base = os.path.splitext(os.path.basename(file))[0]\n",
    "\n",
    "    cell_info['fcode' ] = file_base\n",
    "    cell_info['fdate' ] = file_date\n",
    "    cell_info['fplace'] = file_place\n",
    "    cell_info['fpath' ] = file\n",
    "    df_cell.append(cell_info)\n",
    "    # pass for\n",
    "df_cell = pd.DataFrame(df_cell)\n",
    "df_cell.to_excel(f'{prep_root}/cell_info.xlsx', index=False)"
   ],
   "metadata": {
    "collapsed": false,
    "pycharm": {
     "name": "#%%\n"
    }
   }
  },
  {
   "cell_type": "code",
   "execution_count": 354,
   "outputs": [
    {
     "name": "stdout",
     "output_type": "stream",
     "text": [
      "Images under Microscopy: \n",
      "+ Cell codes: 122170 / 122170\n",
      "+ Cell dates: 21 - ['10/01' '10/04' '10/05' '10/06' '10/07' '10/08' '10/11' '10/12' '10/13'\n",
      " '10/14' '10/15' '10/18' '10/19' '10/20' '10/21' '10/22' '10/25' '10/26'\n",
      " '10/27' '10/28' '10/29']\n",
      "+ Cell place: 2 - ['고성' '일해']\n"
     ]
    },
    {
     "data": {
      "text/plain": "                         fcode  fdate fplace  \\\n0       2-1-1-2-2-1001-0120011  10/01     고성   \n1       2-1-1-2-2-1001-0120012  10/01     고성   \n2       2-1-1-2-2-1001-0120013  10/01     고성   \n3       2-1-1-2-2-1001-0120014  10/01     고성   \n4       2-1-1-2-2-1001-0120015  10/01     고성   \n...                        ...    ...    ...   \n122165  2-1-1-2-2-1029-0414502  10/29     일해   \n122166  2-1-1-2-2-1029-0414503  10/29     일해   \n122167  2-1-1-2-2-1029-0414504  10/29     일해   \n122168  2-1-1-2-2-1029-0414505  10/29     일해   \n122169  2-1-1-2-2-1029-0414506  10/29     일해   \n\n                                            fpath  \n0       먹이생물/10월01일/고성/2-1-1-2-2-1001-0120011.jpg  \n1       먹이생물/10월01일/고성/2-1-1-2-2-1001-0120012.jpg  \n2       먹이생물/10월01일/고성/2-1-1-2-2-1001-0120013.jpg  \n3       먹이생물/10월01일/고성/2-1-1-2-2-1001-0120014.jpg  \n4       먹이생물/10월01일/고성/2-1-1-2-2-1001-0120015.jpg  \n...                                           ...  \n122165  먹이생물/10월29일/일해/2-1-1-2-2-1029-0414502.jpg  \n122166  먹이생물/10월29일/일해/2-1-1-2-2-1029-0414503.jpg  \n122167  먹이생물/10월29일/일해/2-1-1-2-2-1029-0414504.jpg  \n122168  먹이생물/10월29일/일해/2-1-1-2-2-1029-0414505.jpg  \n122169  먹이생물/10월29일/일해/2-1-1-2-2-1029-0414506.jpg  \n\n[122170 rows x 4 columns]",
      "text/html": "<div>\n<style scoped>\n    .dataframe tbody tr th:only-of-type {\n        vertical-align: middle;\n    }\n\n    .dataframe tbody tr th {\n        vertical-align: top;\n    }\n\n    .dataframe thead th {\n        text-align: right;\n    }\n</style>\n<table border=\"1\" class=\"dataframe\">\n  <thead>\n    <tr style=\"text-align: right;\">\n      <th></th>\n      <th>fcode</th>\n      <th>fdate</th>\n      <th>fplace</th>\n      <th>fpath</th>\n    </tr>\n  </thead>\n  <tbody>\n    <tr>\n      <th>0</th>\n      <td>2-1-1-2-2-1001-0120011</td>\n      <td>10/01</td>\n      <td>고성</td>\n      <td>먹이생물/10월01일/고성/2-1-1-2-2-1001-0120011.jpg</td>\n    </tr>\n    <tr>\n      <th>1</th>\n      <td>2-1-1-2-2-1001-0120012</td>\n      <td>10/01</td>\n      <td>고성</td>\n      <td>먹이생물/10월01일/고성/2-1-1-2-2-1001-0120012.jpg</td>\n    </tr>\n    <tr>\n      <th>2</th>\n      <td>2-1-1-2-2-1001-0120013</td>\n      <td>10/01</td>\n      <td>고성</td>\n      <td>먹이생물/10월01일/고성/2-1-1-2-2-1001-0120013.jpg</td>\n    </tr>\n    <tr>\n      <th>3</th>\n      <td>2-1-1-2-2-1001-0120014</td>\n      <td>10/01</td>\n      <td>고성</td>\n      <td>먹이생물/10월01일/고성/2-1-1-2-2-1001-0120014.jpg</td>\n    </tr>\n    <tr>\n      <th>4</th>\n      <td>2-1-1-2-2-1001-0120015</td>\n      <td>10/01</td>\n      <td>고성</td>\n      <td>먹이생물/10월01일/고성/2-1-1-2-2-1001-0120015.jpg</td>\n    </tr>\n    <tr>\n      <th>...</th>\n      <td>...</td>\n      <td>...</td>\n      <td>...</td>\n      <td>...</td>\n    </tr>\n    <tr>\n      <th>122165</th>\n      <td>2-1-1-2-2-1029-0414502</td>\n      <td>10/29</td>\n      <td>일해</td>\n      <td>먹이생물/10월29일/일해/2-1-1-2-2-1029-0414502.jpg</td>\n    </tr>\n    <tr>\n      <th>122166</th>\n      <td>2-1-1-2-2-1029-0414503</td>\n      <td>10/29</td>\n      <td>일해</td>\n      <td>먹이생물/10월29일/일해/2-1-1-2-2-1029-0414503.jpg</td>\n    </tr>\n    <tr>\n      <th>122167</th>\n      <td>2-1-1-2-2-1029-0414504</td>\n      <td>10/29</td>\n      <td>일해</td>\n      <td>먹이생물/10월29일/일해/2-1-1-2-2-1029-0414504.jpg</td>\n    </tr>\n    <tr>\n      <th>122168</th>\n      <td>2-1-1-2-2-1029-0414505</td>\n      <td>10/29</td>\n      <td>일해</td>\n      <td>먹이생물/10월29일/일해/2-1-1-2-2-1029-0414505.jpg</td>\n    </tr>\n    <tr>\n      <th>122169</th>\n      <td>2-1-1-2-2-1029-0414506</td>\n      <td>10/29</td>\n      <td>일해</td>\n      <td>먹이생물/10월29일/일해/2-1-1-2-2-1029-0414506.jpg</td>\n    </tr>\n  </tbody>\n</table>\n<p>122170 rows × 4 columns</p>\n</div>"
     },
     "metadata": {},
     "output_type": "display_data"
    }
   ],
   "source": [
    "print(\"Images under Microscopy: \")\n",
    "n_cell_codes = len(np.unique(df_cell['fcode']))\n",
    "print(f\"+ Cell codes: {n_cell_codes} / {len(df_cell)}\")\n",
    "print(f\"+ Cell dates: {len(np.unique(df_cell['fdate']))} - {np.unique(df_cell['fdate'])}\")\n",
    "print(f\"+ Cell place: {len(np.unique(df_cell['fplace']))} - {np.unique(df_cell['fplace'])}\")\n",
    "display.display(df_cell)"
   ],
   "metadata": {
    "collapsed": false,
    "pycharm": {
     "name": "#%%\n"
    }
   }
  },
  {
   "cell_type": "code",
   "execution_count": 260,
   "outputs": [
    {
     "name": "stderr",
     "output_type": "stream",
     "text": [
      "Process csv: 100%|██████████| 42/42 [00:00<00:00, 170.79it/s]\n"
     ]
    }
   ],
   "source": [
    "df_csv = pd.DataFrame()\n",
    "for file in tqdm.tqdm(csv_files, \"Process csv\"):\n",
    "    file_info = file.split(\"/\")\n",
    "    file_date = file_info[1].replace('월', '/').replace('일', '')\n",
    "    df_file = pd.read_csv(f'{data_root}/{file}')\n",
    "    df_file = df_file[df_file.columns[:6]]\n",
    "    df_file.insert(0, 'ccode', os.path.splitext(file_info[2])[0])\n",
    "    df_file.insert(1, 'cdate', file_date)\n",
    "    df_csv = pd.concat([df_csv, df_file])\n",
    "    # pass\n",
    "df_csv.to_excel(f'{prep_root}/csv_info.xlsx', index=False)"
   ],
   "metadata": {
    "collapsed": false,
    "pycharm": {
     "name": "#%%\n"
    }
   }
  },
  {
   "cell_type": "code",
   "execution_count": 359,
   "outputs": [
    {
     "name": "stdout",
     "output_type": "stream",
     "text": [
      "Information from Sensors\n",
      "+ Sensors codes: 123814 / 123814\n",
      "+ Sensors files: 42\n",
      "+ Sensors dates: 21 - ['10/01' '10/04' '10/05' '10/06' '10/07' '10/08' '10/11' '10/12' '10/13'\n",
      " '10/14' '10/15' '10/18' '10/19' '10/20' '10/21' '10/22' '10/25' '10/26'\n",
      " '10/27' '10/28' '10/29']\n"
     ]
    },
    {
     "data": {
      "text/plain": "                       ccode  cdate                 ID CODE  Temperatue    DO  \\\n0     2-1-1-1-1-1001-0010000  10/01  2-1-1-2-2-1001-0110011       23.65  7.08   \n1     2-1-1-1-1-1001-0010000  10/01  2-1-1-2-2-1001-0110012       23.65  7.08   \n2     2-1-1-1-1-1001-0010000  10/01  2-1-1-2-2-1001-0110013       23.65  7.08   \n3     2-1-1-1-1-1001-0010000  10/01  2-1-1-2-2-1001-0110014       23.65  7.08   \n4     2-1-1-1-1-1001-0010000  10/01  2-1-1-2-2-1001-0110015       23.65  7.08   \n...                      ...    ...                     ...         ...   ...   \n3567  2-1-1-1-1-1029-0020000  10/29  2-1-1-2-2-1029-0526002       25.02  8.40   \n3568  2-1-1-1-1-1029-0020000  10/29  2-1-1-2-2-1029-0526003       25.02  8.40   \n3569  2-1-1-1-1-1029-0020000  10/29  2-1-1-2-2-1029-0526004       25.02  8.40   \n3570  2-1-1-1-1-1029-0020000  10/29  2-1-1-2-2-1029-0526005       25.02  8.40   \n3571  2-1-1-1-1-1029-0020000  10/29  2-1-1-2-2-1029-0526006       25.02  8.40   \n\n        pH  salinity   NTU  \n0     8.39     31.75  2.95  \n1     8.39     31.75  2.95  \n2     8.39     31.75  2.95  \n3     8.39     31.75  2.95  \n4     8.39     31.75  2.95  \n...    ...       ...   ...  \n3567  9.18     34.35  8.71  \n3568  9.18     34.35  8.71  \n3569  9.18     34.35  8.71  \n3570  9.18     34.35  8.71  \n3571  9.18     34.35  8.71  \n\n[123814 rows x 8 columns]",
      "text/html": "<div>\n<style scoped>\n    .dataframe tbody tr th:only-of-type {\n        vertical-align: middle;\n    }\n\n    .dataframe tbody tr th {\n        vertical-align: top;\n    }\n\n    .dataframe thead th {\n        text-align: right;\n    }\n</style>\n<table border=\"1\" class=\"dataframe\">\n  <thead>\n    <tr style=\"text-align: right;\">\n      <th></th>\n      <th>ccode</th>\n      <th>cdate</th>\n      <th>ID CODE</th>\n      <th>Temperatue</th>\n      <th>DO</th>\n      <th>pH</th>\n      <th>salinity</th>\n      <th>NTU</th>\n    </tr>\n  </thead>\n  <tbody>\n    <tr>\n      <th>0</th>\n      <td>2-1-1-1-1-1001-0010000</td>\n      <td>10/01</td>\n      <td>2-1-1-2-2-1001-0110011</td>\n      <td>23.65</td>\n      <td>7.08</td>\n      <td>8.39</td>\n      <td>31.75</td>\n      <td>2.95</td>\n    </tr>\n    <tr>\n      <th>1</th>\n      <td>2-1-1-1-1-1001-0010000</td>\n      <td>10/01</td>\n      <td>2-1-1-2-2-1001-0110012</td>\n      <td>23.65</td>\n      <td>7.08</td>\n      <td>8.39</td>\n      <td>31.75</td>\n      <td>2.95</td>\n    </tr>\n    <tr>\n      <th>2</th>\n      <td>2-1-1-1-1-1001-0010000</td>\n      <td>10/01</td>\n      <td>2-1-1-2-2-1001-0110013</td>\n      <td>23.65</td>\n      <td>7.08</td>\n      <td>8.39</td>\n      <td>31.75</td>\n      <td>2.95</td>\n    </tr>\n    <tr>\n      <th>3</th>\n      <td>2-1-1-1-1-1001-0010000</td>\n      <td>10/01</td>\n      <td>2-1-1-2-2-1001-0110014</td>\n      <td>23.65</td>\n      <td>7.08</td>\n      <td>8.39</td>\n      <td>31.75</td>\n      <td>2.95</td>\n    </tr>\n    <tr>\n      <th>4</th>\n      <td>2-1-1-1-1-1001-0010000</td>\n      <td>10/01</td>\n      <td>2-1-1-2-2-1001-0110015</td>\n      <td>23.65</td>\n      <td>7.08</td>\n      <td>8.39</td>\n      <td>31.75</td>\n      <td>2.95</td>\n    </tr>\n    <tr>\n      <th>...</th>\n      <td>...</td>\n      <td>...</td>\n      <td>...</td>\n      <td>...</td>\n      <td>...</td>\n      <td>...</td>\n      <td>...</td>\n      <td>...</td>\n    </tr>\n    <tr>\n      <th>3567</th>\n      <td>2-1-1-1-1-1029-0020000</td>\n      <td>10/29</td>\n      <td>2-1-1-2-2-1029-0526002</td>\n      <td>25.02</td>\n      <td>8.40</td>\n      <td>9.18</td>\n      <td>34.35</td>\n      <td>8.71</td>\n    </tr>\n    <tr>\n      <th>3568</th>\n      <td>2-1-1-1-1-1029-0020000</td>\n      <td>10/29</td>\n      <td>2-1-1-2-2-1029-0526003</td>\n      <td>25.02</td>\n      <td>8.40</td>\n      <td>9.18</td>\n      <td>34.35</td>\n      <td>8.71</td>\n    </tr>\n    <tr>\n      <th>3569</th>\n      <td>2-1-1-1-1-1029-0020000</td>\n      <td>10/29</td>\n      <td>2-1-1-2-2-1029-0526004</td>\n      <td>25.02</td>\n      <td>8.40</td>\n      <td>9.18</td>\n      <td>34.35</td>\n      <td>8.71</td>\n    </tr>\n    <tr>\n      <th>3570</th>\n      <td>2-1-1-1-1-1029-0020000</td>\n      <td>10/29</td>\n      <td>2-1-1-2-2-1029-0526005</td>\n      <td>25.02</td>\n      <td>8.40</td>\n      <td>9.18</td>\n      <td>34.35</td>\n      <td>8.71</td>\n    </tr>\n    <tr>\n      <th>3571</th>\n      <td>2-1-1-1-1-1029-0020000</td>\n      <td>10/29</td>\n      <td>2-1-1-2-2-1029-0526006</td>\n      <td>25.02</td>\n      <td>8.40</td>\n      <td>9.18</td>\n      <td>34.35</td>\n      <td>8.71</td>\n    </tr>\n  </tbody>\n</table>\n<p>123814 rows × 8 columns</p>\n</div>"
     },
     "metadata": {},
     "output_type": "display_data"
    }
   ],
   "source": [
    "print(\"Information from Sensors\")\n",
    "print(f\"+ Sensors codes: {len(np.unique(df_csv['ID CODE']))} / {len(df_csv)}\")\n",
    "print(f\"+ Sensors files: {len(np.unique(df_csv['ccode']))}\")\n",
    "print(f\"+ Sensors dates: {len(np.unique(df_csv['cdate']))} - {np.unique(df_csv['cdate'])}\")\n",
    "display.display(df_csv)"
   ],
   "metadata": {
    "collapsed": false,
    "pycharm": {
     "name": "#%%\n"
    }
   }
  },
  {
   "cell_type": "code",
   "execution_count": 366,
   "outputs": [
    {
     "name": "stderr",
     "output_type": "stream",
     "text": [
      "100%|██████████| 122170/122170 [00:08<00:00, 15268.20it/s]\n",
      "100%|██████████| 123814/123814 [00:10<00:00, 11828.38it/s]\n"
     ]
    }
   ],
   "source": [
    "list_code = {}\n",
    "for idx in tqdm.tqdm(range(len(df_cell))):\n",
    "    info = df_cell.iloc[idx]\n",
    "    id_code = info[\"fcode\"]\n",
    "    if list_code.get(id_code) is None:\n",
    "        list_code[id_code] = {}\n",
    "    list_code[id_code][\"cell\"] = 1\n",
    "    # pass\n",
    "for idx in tqdm.tqdm(range(len(df_csv))):\n",
    "    info = df_csv.iloc[idx]\n",
    "    id_code = info[\"ID CODE\"]\n",
    "    if list_code.get(id_code) is None:\n",
    "        list_code[id_code] = {}\n",
    "    list_code[id_code][\"csv\"] = 1\n",
    "    # pass"
   ],
   "metadata": {
    "collapsed": false,
    "pycharm": {
     "name": "#%%\n"
    }
   }
  },
  {
   "cell_type": "code",
   "execution_count": 367,
   "outputs": [],
   "source": [
    "id_codes = list(list_code.keys())\n",
    "id_codes.sort()\n",
    "df_checkcode = []\n",
    "for id_code in id_codes:\n",
    "    info = {}\n",
    "    info[\"id_code\"] = id_code\n",
    "    if list_code[id_code].get(\"csv\") is not None:\n",
    "        info[\"csv\"] = 1\n",
    "    else:\n",
    "        info[\"csv\"] = 0\n",
    "\n",
    "    if list_code[id_code].get(\"cell\") is not None:\n",
    "        info[\"cell\"] = 1\n",
    "    else:\n",
    "        info[\"cell\"] = 0\n",
    "\n",
    "    df_checkcode.append(info)\n",
    "    # pass\n",
    "df_checkcode = pd.DataFrame(df_checkcode)\n",
    "df_checkcode.to_excel(f'{prep_root}/code_info.xlsx', index=False)"
   ],
   "metadata": {
    "collapsed": false,
    "pycharm": {
     "name": "#%%\n"
    }
   }
  },
  {
   "cell_type": "code",
   "execution_count": 384,
   "outputs": [
    {
     "name": "stdout",
     "output_type": "stream",
     "text": [
      "Data Integrity: \n",
      "+ Sensors, not cell : 1648\n",
      "+ Not Sensors, cell : 4\n",
      "+ Both Sensors, cell: 122166\n",
      "+ Total: 123818\n"
     ]
    },
    {
     "data": {
      "text/plain": "                       id_code  csv  cell\n14130   2-1-1-2-2-1005-0312771    1     0\n16438   2-1-1-2-2-1005-0424556    1     0\n33784   2-1-1-2-2-1008-0424802    1     0\n33785   2-1-1-2-2-1008-0424803    1     0\n112401  2-1-1-2-2-1028-0111192    1     0\n...                        ...  ...   ...\n115240  2-1-1-2-2-1028-0414502    1     0\n115241  2-1-1-2-2-1028-0414503    1     0\n115242  2-1-1-2-2-1028-0414504    1     0\n115243  2-1-1-2-2-1028-0414505    1     0\n115244  2-1-1-2-2-1028-0414506    1     0\n\n[1648 rows x 3 columns]",
      "text/html": "<div>\n<style scoped>\n    .dataframe tbody tr th:only-of-type {\n        vertical-align: middle;\n    }\n\n    .dataframe tbody tr th {\n        vertical-align: top;\n    }\n\n    .dataframe thead th {\n        text-align: right;\n    }\n</style>\n<table border=\"1\" class=\"dataframe\">\n  <thead>\n    <tr style=\"text-align: right;\">\n      <th></th>\n      <th>id_code</th>\n      <th>csv</th>\n      <th>cell</th>\n    </tr>\n  </thead>\n  <tbody>\n    <tr>\n      <th>14130</th>\n      <td>2-1-1-2-2-1005-0312771</td>\n      <td>1</td>\n      <td>0</td>\n    </tr>\n    <tr>\n      <th>16438</th>\n      <td>2-1-1-2-2-1005-0424556</td>\n      <td>1</td>\n      <td>0</td>\n    </tr>\n    <tr>\n      <th>33784</th>\n      <td>2-1-1-2-2-1008-0424802</td>\n      <td>1</td>\n      <td>0</td>\n    </tr>\n    <tr>\n      <th>33785</th>\n      <td>2-1-1-2-2-1008-0424803</td>\n      <td>1</td>\n      <td>0</td>\n    </tr>\n    <tr>\n      <th>112401</th>\n      <td>2-1-1-2-2-1028-0111192</td>\n      <td>1</td>\n      <td>0</td>\n    </tr>\n    <tr>\n      <th>...</th>\n      <td>...</td>\n      <td>...</td>\n      <td>...</td>\n    </tr>\n    <tr>\n      <th>115240</th>\n      <td>2-1-1-2-2-1028-0414502</td>\n      <td>1</td>\n      <td>0</td>\n    </tr>\n    <tr>\n      <th>115241</th>\n      <td>2-1-1-2-2-1028-0414503</td>\n      <td>1</td>\n      <td>0</td>\n    </tr>\n    <tr>\n      <th>115242</th>\n      <td>2-1-1-2-2-1028-0414504</td>\n      <td>1</td>\n      <td>0</td>\n    </tr>\n    <tr>\n      <th>115243</th>\n      <td>2-1-1-2-2-1028-0414505</td>\n      <td>1</td>\n      <td>0</td>\n    </tr>\n    <tr>\n      <th>115244</th>\n      <td>2-1-1-2-2-1028-0414506</td>\n      <td>1</td>\n      <td>0</td>\n    </tr>\n  </tbody>\n</table>\n<p>1648 rows × 3 columns</p>\n</div>"
     },
     "metadata": {},
     "output_type": "display_data"
    },
    {
     "data": {
      "text/plain": "                      id_code  csv  cell\n14024  2-1-1-2-2-1005-0312471    0     1\n16018  2-1-1-2-2-1005-0423856    0     1\n33135  2-1-1-2-2-1008-0423712    0     1\n33136  2-1-1-2-2-1008-0423713    0     1",
      "text/html": "<div>\n<style scoped>\n    .dataframe tbody tr th:only-of-type {\n        vertical-align: middle;\n    }\n\n    .dataframe tbody tr th {\n        vertical-align: top;\n    }\n\n    .dataframe thead th {\n        text-align: right;\n    }\n</style>\n<table border=\"1\" class=\"dataframe\">\n  <thead>\n    <tr style=\"text-align: right;\">\n      <th></th>\n      <th>id_code</th>\n      <th>csv</th>\n      <th>cell</th>\n    </tr>\n  </thead>\n  <tbody>\n    <tr>\n      <th>14024</th>\n      <td>2-1-1-2-2-1005-0312471</td>\n      <td>0</td>\n      <td>1</td>\n    </tr>\n    <tr>\n      <th>16018</th>\n      <td>2-1-1-2-2-1005-0423856</td>\n      <td>0</td>\n      <td>1</td>\n    </tr>\n    <tr>\n      <th>33135</th>\n      <td>2-1-1-2-2-1008-0423712</td>\n      <td>0</td>\n      <td>1</td>\n    </tr>\n    <tr>\n      <th>33136</th>\n      <td>2-1-1-2-2-1008-0423713</td>\n      <td>0</td>\n      <td>1</td>\n    </tr>\n  </tbody>\n</table>\n</div>"
     },
     "metadata": {},
     "output_type": "display_data"
    },
    {
     "data": {
      "text/plain": "                       id_code  csv  cell\n0       2-1-1-2-2-1001-0110011    1     1\n1       2-1-1-2-2-1001-0110012    1     1\n2       2-1-1-2-2-1001-0110013    1     1\n3       2-1-1-2-2-1001-0110014    1     1\n4       2-1-1-2-2-1001-0110015    1     1\n...                        ...  ...   ...\n123813  2-1-1-2-2-1029-0526002    1     1\n123814  2-1-1-2-2-1029-0526003    1     1\n123815  2-1-1-2-2-1029-0526004    1     1\n123816  2-1-1-2-2-1029-0526005    1     1\n123817  2-1-1-2-2-1029-0526006    1     1\n\n[123818 rows x 3 columns]",
      "text/html": "<div>\n<style scoped>\n    .dataframe tbody tr th:only-of-type {\n        vertical-align: middle;\n    }\n\n    .dataframe tbody tr th {\n        vertical-align: top;\n    }\n\n    .dataframe thead th {\n        text-align: right;\n    }\n</style>\n<table border=\"1\" class=\"dataframe\">\n  <thead>\n    <tr style=\"text-align: right;\">\n      <th></th>\n      <th>id_code</th>\n      <th>csv</th>\n      <th>cell</th>\n    </tr>\n  </thead>\n  <tbody>\n    <tr>\n      <th>0</th>\n      <td>2-1-1-2-2-1001-0110011</td>\n      <td>1</td>\n      <td>1</td>\n    </tr>\n    <tr>\n      <th>1</th>\n      <td>2-1-1-2-2-1001-0110012</td>\n      <td>1</td>\n      <td>1</td>\n    </tr>\n    <tr>\n      <th>2</th>\n      <td>2-1-1-2-2-1001-0110013</td>\n      <td>1</td>\n      <td>1</td>\n    </tr>\n    <tr>\n      <th>3</th>\n      <td>2-1-1-2-2-1001-0110014</td>\n      <td>1</td>\n      <td>1</td>\n    </tr>\n    <tr>\n      <th>4</th>\n      <td>2-1-1-2-2-1001-0110015</td>\n      <td>1</td>\n      <td>1</td>\n    </tr>\n    <tr>\n      <th>...</th>\n      <td>...</td>\n      <td>...</td>\n      <td>...</td>\n    </tr>\n    <tr>\n      <th>123813</th>\n      <td>2-1-1-2-2-1029-0526002</td>\n      <td>1</td>\n      <td>1</td>\n    </tr>\n    <tr>\n      <th>123814</th>\n      <td>2-1-1-2-2-1029-0526003</td>\n      <td>1</td>\n      <td>1</td>\n    </tr>\n    <tr>\n      <th>123815</th>\n      <td>2-1-1-2-2-1029-0526004</td>\n      <td>1</td>\n      <td>1</td>\n    </tr>\n    <tr>\n      <th>123816</th>\n      <td>2-1-1-2-2-1029-0526005</td>\n      <td>1</td>\n      <td>1</td>\n    </tr>\n    <tr>\n      <th>123817</th>\n      <td>2-1-1-2-2-1029-0526006</td>\n      <td>1</td>\n      <td>1</td>\n    </tr>\n  </tbody>\n</table>\n<p>123818 rows × 3 columns</p>\n</div>"
     },
     "metadata": {},
     "output_type": "display_data"
    }
   ],
   "source": [
    "print(\"Data Integrity: \")\n",
    "print(f'+ Sensors, not cell : {len(df_checkcode.query(\"csv==1 and cell==0\"))}')\n",
    "print(f'+ Not Sensors, cell : {len(df_checkcode.query(\"csv==0 and cell==1\"))}')\n",
    "print(f'+ Both Sensors, cell: {len(df_checkcode.query(\"csv==1 and cell==1\"))}')\n",
    "print(f'+ Total: {len(df_checkcode)}')\n",
    "display.display(df_checkcode.query(\"csv==1 and cell==0\"))\n",
    "display.display(df_checkcode.query(\"csv==0 and cell==1\"))\n",
    "display.display(df_checkcode)"
   ],
   "metadata": {
    "collapsed": false,
    "pycharm": {
     "name": "#%%\n"
    }
   }
  },
  {
   "cell_type": "code",
   "execution_count": 338,
   "outputs": [],
   "source": [
    "df_full = df_csv.set_index('ID CODE', drop=False).join(df_cell.set_index('fcode', drop=False), how = 'outer').reset_index()\n",
    "df_full.to_excel(f'{prep_root}/full_info.xlsx', index=False)"
   ],
   "metadata": {
    "collapsed": false,
    "pycharm": {
     "name": "#%%\n"
    }
   }
  },
  {
   "cell_type": "code",
   "execution_count": 379,
   "outputs": [
    {
     "data": {
      "text/plain": "                         index                   ccode  cdate  \\\n0       2-1-1-2-2-1001-0110011  2-1-1-1-1-1001-0010000  10/01   \n1       2-1-1-2-2-1001-0110012  2-1-1-1-1-1001-0010000  10/01   \n2       2-1-1-2-2-1001-0110013  2-1-1-1-1-1001-0010000  10/01   \n3       2-1-1-2-2-1001-0110014  2-1-1-1-1-1001-0010000  10/01   \n4       2-1-1-2-2-1001-0110015  2-1-1-1-1-1001-0010000  10/01   \n...                        ...                     ...    ...   \n123813  2-1-1-2-2-1029-0526002  2-1-1-1-1-1029-0020000  10/29   \n123814  2-1-1-2-2-1029-0526003  2-1-1-1-1-1029-0020000  10/29   \n123815  2-1-1-2-2-1029-0526004  2-1-1-1-1-1029-0020000  10/29   \n123816  2-1-1-2-2-1029-0526005  2-1-1-1-1-1029-0020000  10/29   \n123817  2-1-1-2-2-1029-0526006  2-1-1-1-1-1029-0020000  10/29   \n\n                       ID CODE  Temperatue    DO    pH  salinity   NTU  \\\n0       2-1-1-2-2-1001-0110011       23.65  7.08  8.39     31.75  2.95   \n1       2-1-1-2-2-1001-0110012       23.65  7.08  8.39     31.75  2.95   \n2       2-1-1-2-2-1001-0110013       23.65  7.08  8.39     31.75  2.95   \n3       2-1-1-2-2-1001-0110014       23.65  7.08  8.39     31.75  2.95   \n4       2-1-1-2-2-1001-0110015       23.65  7.08  8.39     31.75  2.95   \n...                        ...         ...   ...   ...       ...   ...   \n123813  2-1-1-2-2-1029-0526002       25.02  8.40  9.18     34.35  8.71   \n123814  2-1-1-2-2-1029-0526003       25.02  8.40  9.18     34.35  8.71   \n123815  2-1-1-2-2-1029-0526004       25.02  8.40  9.18     34.35  8.71   \n123816  2-1-1-2-2-1029-0526005       25.02  8.40  9.18     34.35  8.71   \n123817  2-1-1-2-2-1029-0526006       25.02  8.40  9.18     34.35  8.71   \n\n                         fcode  fdate fplace  \\\n0       2-1-1-2-2-1001-0110011  10/01     일해   \n1       2-1-1-2-2-1001-0110012  10/01     일해   \n2       2-1-1-2-2-1001-0110013  10/01     일해   \n3       2-1-1-2-2-1001-0110014  10/01     일해   \n4       2-1-1-2-2-1001-0110015  10/01     일해   \n...                        ...    ...    ...   \n123813  2-1-1-2-2-1029-0526002  10/29     고성   \n123814  2-1-1-2-2-1029-0526003  10/29     고성   \n123815  2-1-1-2-2-1029-0526004  10/29     고성   \n123816  2-1-1-2-2-1029-0526005  10/29     고성   \n123817  2-1-1-2-2-1029-0526006  10/29     고성   \n\n                                            fpath  \n0       먹이생물/10월01일/일해/2-1-1-2-2-1001-0110011.jpg  \n1       먹이생물/10월01일/일해/2-1-1-2-2-1001-0110012.jpg  \n2       먹이생물/10월01일/일해/2-1-1-2-2-1001-0110013.jpg  \n3       먹이생물/10월01일/일해/2-1-1-2-2-1001-0110014.jpg  \n4       먹이생물/10월01일/일해/2-1-1-2-2-1001-0110015.jpg  \n...                                           ...  \n123813  먹이생물/10월29일/고성/2-1-1-2-2-1029-0526002.jpg  \n123814  먹이생물/10월29일/고성/2-1-1-2-2-1029-0526003.jpg  \n123815  먹이생물/10월29일/고성/2-1-1-2-2-1029-0526004.jpg  \n123816  먹이생물/10월29일/고성/2-1-1-2-2-1029-0526005.jpg  \n123817  먹이생물/10월29일/고성/2-1-1-2-2-1029-0526006.jpg  \n\n[123818 rows x 13 columns]",
      "text/html": "<div>\n<style scoped>\n    .dataframe tbody tr th:only-of-type {\n        vertical-align: middle;\n    }\n\n    .dataframe tbody tr th {\n        vertical-align: top;\n    }\n\n    .dataframe thead th {\n        text-align: right;\n    }\n</style>\n<table border=\"1\" class=\"dataframe\">\n  <thead>\n    <tr style=\"text-align: right;\">\n      <th></th>\n      <th>index</th>\n      <th>ccode</th>\n      <th>cdate</th>\n      <th>ID CODE</th>\n      <th>Temperatue</th>\n      <th>DO</th>\n      <th>pH</th>\n      <th>salinity</th>\n      <th>NTU</th>\n      <th>fcode</th>\n      <th>fdate</th>\n      <th>fplace</th>\n      <th>fpath</th>\n    </tr>\n  </thead>\n  <tbody>\n    <tr>\n      <th>0</th>\n      <td>2-1-1-2-2-1001-0110011</td>\n      <td>2-1-1-1-1-1001-0010000</td>\n      <td>10/01</td>\n      <td>2-1-1-2-2-1001-0110011</td>\n      <td>23.65</td>\n      <td>7.08</td>\n      <td>8.39</td>\n      <td>31.75</td>\n      <td>2.95</td>\n      <td>2-1-1-2-2-1001-0110011</td>\n      <td>10/01</td>\n      <td>일해</td>\n      <td>먹이생물/10월01일/일해/2-1-1-2-2-1001-0110011.jpg</td>\n    </tr>\n    <tr>\n      <th>1</th>\n      <td>2-1-1-2-2-1001-0110012</td>\n      <td>2-1-1-1-1-1001-0010000</td>\n      <td>10/01</td>\n      <td>2-1-1-2-2-1001-0110012</td>\n      <td>23.65</td>\n      <td>7.08</td>\n      <td>8.39</td>\n      <td>31.75</td>\n      <td>2.95</td>\n      <td>2-1-1-2-2-1001-0110012</td>\n      <td>10/01</td>\n      <td>일해</td>\n      <td>먹이생물/10월01일/일해/2-1-1-2-2-1001-0110012.jpg</td>\n    </tr>\n    <tr>\n      <th>2</th>\n      <td>2-1-1-2-2-1001-0110013</td>\n      <td>2-1-1-1-1-1001-0010000</td>\n      <td>10/01</td>\n      <td>2-1-1-2-2-1001-0110013</td>\n      <td>23.65</td>\n      <td>7.08</td>\n      <td>8.39</td>\n      <td>31.75</td>\n      <td>2.95</td>\n      <td>2-1-1-2-2-1001-0110013</td>\n      <td>10/01</td>\n      <td>일해</td>\n      <td>먹이생물/10월01일/일해/2-1-1-2-2-1001-0110013.jpg</td>\n    </tr>\n    <tr>\n      <th>3</th>\n      <td>2-1-1-2-2-1001-0110014</td>\n      <td>2-1-1-1-1-1001-0010000</td>\n      <td>10/01</td>\n      <td>2-1-1-2-2-1001-0110014</td>\n      <td>23.65</td>\n      <td>7.08</td>\n      <td>8.39</td>\n      <td>31.75</td>\n      <td>2.95</td>\n      <td>2-1-1-2-2-1001-0110014</td>\n      <td>10/01</td>\n      <td>일해</td>\n      <td>먹이생물/10월01일/일해/2-1-1-2-2-1001-0110014.jpg</td>\n    </tr>\n    <tr>\n      <th>4</th>\n      <td>2-1-1-2-2-1001-0110015</td>\n      <td>2-1-1-1-1-1001-0010000</td>\n      <td>10/01</td>\n      <td>2-1-1-2-2-1001-0110015</td>\n      <td>23.65</td>\n      <td>7.08</td>\n      <td>8.39</td>\n      <td>31.75</td>\n      <td>2.95</td>\n      <td>2-1-1-2-2-1001-0110015</td>\n      <td>10/01</td>\n      <td>일해</td>\n      <td>먹이생물/10월01일/일해/2-1-1-2-2-1001-0110015.jpg</td>\n    </tr>\n    <tr>\n      <th>...</th>\n      <td>...</td>\n      <td>...</td>\n      <td>...</td>\n      <td>...</td>\n      <td>...</td>\n      <td>...</td>\n      <td>...</td>\n      <td>...</td>\n      <td>...</td>\n      <td>...</td>\n      <td>...</td>\n      <td>...</td>\n      <td>...</td>\n    </tr>\n    <tr>\n      <th>123813</th>\n      <td>2-1-1-2-2-1029-0526002</td>\n      <td>2-1-1-1-1-1029-0020000</td>\n      <td>10/29</td>\n      <td>2-1-1-2-2-1029-0526002</td>\n      <td>25.02</td>\n      <td>8.40</td>\n      <td>9.18</td>\n      <td>34.35</td>\n      <td>8.71</td>\n      <td>2-1-1-2-2-1029-0526002</td>\n      <td>10/29</td>\n      <td>고성</td>\n      <td>먹이생물/10월29일/고성/2-1-1-2-2-1029-0526002.jpg</td>\n    </tr>\n    <tr>\n      <th>123814</th>\n      <td>2-1-1-2-2-1029-0526003</td>\n      <td>2-1-1-1-1-1029-0020000</td>\n      <td>10/29</td>\n      <td>2-1-1-2-2-1029-0526003</td>\n      <td>25.02</td>\n      <td>8.40</td>\n      <td>9.18</td>\n      <td>34.35</td>\n      <td>8.71</td>\n      <td>2-1-1-2-2-1029-0526003</td>\n      <td>10/29</td>\n      <td>고성</td>\n      <td>먹이생물/10월29일/고성/2-1-1-2-2-1029-0526003.jpg</td>\n    </tr>\n    <tr>\n      <th>123815</th>\n      <td>2-1-1-2-2-1029-0526004</td>\n      <td>2-1-1-1-1-1029-0020000</td>\n      <td>10/29</td>\n      <td>2-1-1-2-2-1029-0526004</td>\n      <td>25.02</td>\n      <td>8.40</td>\n      <td>9.18</td>\n      <td>34.35</td>\n      <td>8.71</td>\n      <td>2-1-1-2-2-1029-0526004</td>\n      <td>10/29</td>\n      <td>고성</td>\n      <td>먹이생물/10월29일/고성/2-1-1-2-2-1029-0526004.jpg</td>\n    </tr>\n    <tr>\n      <th>123816</th>\n      <td>2-1-1-2-2-1029-0526005</td>\n      <td>2-1-1-1-1-1029-0020000</td>\n      <td>10/29</td>\n      <td>2-1-1-2-2-1029-0526005</td>\n      <td>25.02</td>\n      <td>8.40</td>\n      <td>9.18</td>\n      <td>34.35</td>\n      <td>8.71</td>\n      <td>2-1-1-2-2-1029-0526005</td>\n      <td>10/29</td>\n      <td>고성</td>\n      <td>먹이생물/10월29일/고성/2-1-1-2-2-1029-0526005.jpg</td>\n    </tr>\n    <tr>\n      <th>123817</th>\n      <td>2-1-1-2-2-1029-0526006</td>\n      <td>2-1-1-1-1-1029-0020000</td>\n      <td>10/29</td>\n      <td>2-1-1-2-2-1029-0526006</td>\n      <td>25.02</td>\n      <td>8.40</td>\n      <td>9.18</td>\n      <td>34.35</td>\n      <td>8.71</td>\n      <td>2-1-1-2-2-1029-0526006</td>\n      <td>10/29</td>\n      <td>고성</td>\n      <td>먹이생물/10월29일/고성/2-1-1-2-2-1029-0526006.jpg</td>\n    </tr>\n  </tbody>\n</table>\n<p>123818 rows × 13 columns</p>\n</div>"
     },
     "metadata": {},
     "output_type": "display_data"
    }
   ],
   "source": [
    "display.display(df_full)"
   ],
   "metadata": {
    "collapsed": false,
    "pycharm": {
     "name": "#%%\n"
    }
   }
  },
  {
   "cell_type": "code",
   "execution_count": 386,
   "outputs": [
    {
     "name": "stdout",
     "output_type": "stream",
     "text": [
      "[NbConvertApp] Converting notebook 01_datapreprocess.ipynb to html\r\n",
      "[NbConvertApp] Writing 623695 bytes to 01_datapreprocess.html\r\n"
     ]
    }
   ],
   "source": [
    "!jupyter nbconvert 01_datapreprocess.ipynb --to html"
   ],
   "metadata": {
    "collapsed": false,
    "pycharm": {
     "name": "#%%\n"
    }
   }
  }
 ],
 "metadata": {
  "kernelspec": {
   "name": "aqua21",
   "language": "python",
   "display_name": "aqua21"
  },
  "language_info": {
   "codemirror_mode": {
    "name": "ipython",
    "version": 2
   },
   "file_extension": ".py",
   "mimetype": "text/x-python",
   "name": "python",
   "nbconvert_exporter": "python",
   "pygments_lexer": "ipython2",
   "version": "2.7.6"
  }
 },
 "nbformat": 4,
 "nbformat_minor": 0
}